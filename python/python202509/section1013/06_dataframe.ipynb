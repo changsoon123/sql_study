{
 "cells": [
  {
   "cell_type": "code",
   "execution_count": null,
   "id": "b4be3fd5-7b81-4bd9-b7d4-0a7f39ee50b1",
   "metadata": {},
   "outputs": [],
   "source": [
    "#06_dataframe.ipynb\n",
    "\n",
    "#DataFrame\n",
    "#->2차원 자료구조. 행과 열이 있는 테이블 데이터(Table Data) 처리\n",
    "#->엑셀\n",
    "\"\"\"\n",
    "    ● pandas 패키지\n",
    "      - 데이터 분석용 라이브러리\n",
    "      - 자료형 : Series(1차원), DataFrame(2차원), Panel(3차원)\n",
    "        \n",
    "    ● 모듈설치\n",
    "      >pip list\n",
    "      >pip install pandas    \n",
    "\"\"\""
   ]
  },
  {
   "cell_type": "code",
   "execution_count": 2,
   "id": "4597e995-ebae-4589-ac9c-bfdc634891c2",
   "metadata": {},
   "outputs": [],
   "source": [
    "from pandas import DataFrame\n",
    "from sample2 import grade_list # 데이터 파일 sample2.py"
   ]
  },
  {
   "cell_type": "code",
   "execution_count": 3,
   "id": "58592c54-8348-45c5-aa86-6df80c6841a2",
   "metadata": {},
   "outputs": [
    {
     "data": {
      "text/plain": [
       "[[98, None, 88, 64],\n",
       " [88, 90, 62, 72],\n",
       " [92, 70, None, None],\n",
       " [63, 60, 31, 70],\n",
       " [120, 50, None, 88]]"
      ]
     },
     "execution_count": 3,
     "metadata": {},
     "output_type": "execute_result"
    }
   ],
   "source": [
    "grade_list  #print()생략가능"
   ]
  },
  {
   "cell_type": "code",
   "execution_count": 4,
   "id": "15e1496b-b2d1-41a9-af90-245cf3ebbe75",
   "metadata": {},
   "outputs": [
    {
     "data": {
      "text/html": [
       "<div>\n",
       "<style scoped>\n",
       "    .dataframe tbody tr th:only-of-type {\n",
       "        vertical-align: middle;\n",
       "    }\n",
       "\n",
       "    .dataframe tbody tr th {\n",
       "        vertical-align: top;\n",
       "    }\n",
       "\n",
       "    .dataframe thead th {\n",
       "        text-align: right;\n",
       "    }\n",
       "</style>\n",
       "<table border=\"1\" class=\"dataframe\">\n",
       "  <thead>\n",
       "    <tr style=\"text-align: right;\">\n",
       "      <th></th>\n",
       "      <th>0</th>\n",
       "      <th>1</th>\n",
       "      <th>2</th>\n",
       "      <th>3</th>\n",
       "    </tr>\n",
       "  </thead>\n",
       "  <tbody>\n",
       "    <tr>\n",
       "      <th>0</th>\n",
       "      <td>98</td>\n",
       "      <td>NaN</td>\n",
       "      <td>88.0</td>\n",
       "      <td>64.0</td>\n",
       "    </tr>\n",
       "    <tr>\n",
       "      <th>1</th>\n",
       "      <td>88</td>\n",
       "      <td>90.0</td>\n",
       "      <td>62.0</td>\n",
       "      <td>72.0</td>\n",
       "    </tr>\n",
       "    <tr>\n",
       "      <th>2</th>\n",
       "      <td>92</td>\n",
       "      <td>70.0</td>\n",
       "      <td>NaN</td>\n",
       "      <td>NaN</td>\n",
       "    </tr>\n",
       "    <tr>\n",
       "      <th>3</th>\n",
       "      <td>63</td>\n",
       "      <td>60.0</td>\n",
       "      <td>31.0</td>\n",
       "      <td>70.0</td>\n",
       "    </tr>\n",
       "    <tr>\n",
       "      <th>4</th>\n",
       "      <td>120</td>\n",
       "      <td>50.0</td>\n",
       "      <td>NaN</td>\n",
       "      <td>88.0</td>\n",
       "    </tr>\n",
       "  </tbody>\n",
       "</table>\n",
       "</div>"
      ],
      "text/plain": [
       "     0     1     2     3\n",
       "0   98   NaN  88.0  64.0\n",
       "1   88  90.0  62.0  72.0\n",
       "2   92  70.0   NaN   NaN\n",
       "3   63  60.0  31.0  70.0\n",
       "4  120  50.0   NaN  88.0"
      ]
     },
     "execution_count": 4,
     "metadata": {},
     "output_type": "execute_result"
    }
   ],
   "source": [
    "df = DataFrame(grade_list)\n",
    "df"
   ]
  },
  {
   "cell_type": "code",
   "execution_count": 5,
   "id": "e91d0213-5f11-4c4b-807d-daa69e2ff9bd",
   "metadata": {},
   "outputs": [
    {
     "data": {
      "text/plain": [
       "pandas.core.frame.DataFrame"
      ]
     },
     "execution_count": 5,
     "metadata": {},
     "output_type": "execute_result"
    }
   ],
   "source": [
    "type(df)"
   ]
  },
  {
   "cell_type": "code",
   "execution_count": 6,
   "id": "b33235e8-46f8-48a1-bee3-6aeec7ffb9cd",
   "metadata": {},
   "outputs": [
    {
     "data": {
      "text/plain": [
       "0     98\n",
       "1     88\n",
       "2     92\n",
       "3     63\n",
       "4    120\n",
       "Name: 0, dtype: int64"
      ]
     },
     "execution_count": 6,
     "metadata": {},
     "output_type": "execute_result"
    }
   ],
   "source": [
    "df[0] # 0열"
   ]
  },
  {
   "cell_type": "code",
   "execution_count": 7,
   "id": "b60f254e-2856-4559-bbdc-fb4956eb6c06",
   "metadata": {},
   "outputs": [
    {
     "data": {
      "text/html": [
       "<div>\n",
       "<style scoped>\n",
       "    .dataframe tbody tr th:only-of-type {\n",
       "        vertical-align: middle;\n",
       "    }\n",
       "\n",
       "    .dataframe tbody tr th {\n",
       "        vertical-align: top;\n",
       "    }\n",
       "\n",
       "    .dataframe thead th {\n",
       "        text-align: right;\n",
       "    }\n",
       "</style>\n",
       "<table border=\"1\" class=\"dataframe\">\n",
       "  <thead>\n",
       "    <tr style=\"text-align: right;\">\n",
       "      <th></th>\n",
       "      <th>국어</th>\n",
       "      <th>영어</th>\n",
       "      <th>수학</th>\n",
       "      <th>과학</th>\n",
       "    </tr>\n",
       "  </thead>\n",
       "  <tbody>\n",
       "    <tr>\n",
       "      <th>0</th>\n",
       "      <td>98</td>\n",
       "      <td>NaN</td>\n",
       "      <td>88.0</td>\n",
       "      <td>64.0</td>\n",
       "    </tr>\n",
       "    <tr>\n",
       "      <th>1</th>\n",
       "      <td>88</td>\n",
       "      <td>90.0</td>\n",
       "      <td>62.0</td>\n",
       "      <td>72.0</td>\n",
       "    </tr>\n",
       "    <tr>\n",
       "      <th>2</th>\n",
       "      <td>92</td>\n",
       "      <td>70.0</td>\n",
       "      <td>NaN</td>\n",
       "      <td>NaN</td>\n",
       "    </tr>\n",
       "    <tr>\n",
       "      <th>3</th>\n",
       "      <td>63</td>\n",
       "      <td>60.0</td>\n",
       "      <td>31.0</td>\n",
       "      <td>70.0</td>\n",
       "    </tr>\n",
       "    <tr>\n",
       "      <th>4</th>\n",
       "      <td>120</td>\n",
       "      <td>50.0</td>\n",
       "      <td>NaN</td>\n",
       "      <td>88.0</td>\n",
       "    </tr>\n",
       "  </tbody>\n",
       "</table>\n",
       "</div>"
      ],
      "text/plain": [
       "    국어    영어    수학    과학\n",
       "0   98   NaN  88.0  64.0\n",
       "1   88  90.0  62.0  72.0\n",
       "2   92  70.0   NaN   NaN\n",
       "3   63  60.0  31.0  70.0\n",
       "4  120  50.0   NaN  88.0"
      ]
     },
     "execution_count": 7,
     "metadata": {},
     "output_type": "execute_result"
    }
   ],
   "source": [
    "# 컬럼(열) 이름을 지정하여 새로 생성\n",
    "c_names = ['국어', '영어', '수학', '과학']\n",
    "df = DataFrame(grade_list, columns=c_names)\n",
    "df              "
   ]
  },
  {
   "cell_type": "code",
   "execution_count": 8,
   "id": "d1039a7f-af2f-4b49-9376-0bbcc07c034a",
   "metadata": {},
   "outputs": [
    {
     "data": {
      "text/html": [
       "<div>\n",
       "<style scoped>\n",
       "    .dataframe tbody tr th:only-of-type {\n",
       "        vertical-align: middle;\n",
       "    }\n",
       "\n",
       "    .dataframe tbody tr th {\n",
       "        vertical-align: top;\n",
       "    }\n",
       "\n",
       "    .dataframe thead th {\n",
       "        text-align: right;\n",
       "    }\n",
       "</style>\n",
       "<table border=\"1\" class=\"dataframe\">\n",
       "  <thead>\n",
       "    <tr style=\"text-align: right;\">\n",
       "      <th></th>\n",
       "      <th>0</th>\n",
       "      <th>1</th>\n",
       "      <th>2</th>\n",
       "      <th>3</th>\n",
       "    </tr>\n",
       "  </thead>\n",
       "  <tbody>\n",
       "    <tr>\n",
       "      <th>무궁화</th>\n",
       "      <td>98</td>\n",
       "      <td>NaN</td>\n",
       "      <td>88.0</td>\n",
       "      <td>64.0</td>\n",
       "    </tr>\n",
       "    <tr>\n",
       "      <th>홍길동</th>\n",
       "      <td>88</td>\n",
       "      <td>90.0</td>\n",
       "      <td>62.0</td>\n",
       "      <td>72.0</td>\n",
       "    </tr>\n",
       "    <tr>\n",
       "      <th>개나리</th>\n",
       "      <td>92</td>\n",
       "      <td>70.0</td>\n",
       "      <td>NaN</td>\n",
       "      <td>NaN</td>\n",
       "    </tr>\n",
       "    <tr>\n",
       "      <th>진달래</th>\n",
       "      <td>63</td>\n",
       "      <td>60.0</td>\n",
       "      <td>31.0</td>\n",
       "      <td>70.0</td>\n",
       "    </tr>\n",
       "    <tr>\n",
       "      <th>봉선화</th>\n",
       "      <td>120</td>\n",
       "      <td>50.0</td>\n",
       "      <td>NaN</td>\n",
       "      <td>88.0</td>\n",
       "    </tr>\n",
       "  </tbody>\n",
       "</table>\n",
       "</div>"
      ],
      "text/plain": [
       "       0     1     2     3\n",
       "무궁화   98   NaN  88.0  64.0\n",
       "홍길동   88  90.0  62.0  72.0\n",
       "개나리   92  70.0   NaN   NaN\n",
       "진달래   63  60.0  31.0  70.0\n",
       "봉선화  120  50.0   NaN  88.0"
      ]
     },
     "execution_count": 8,
     "metadata": {},
     "output_type": "execute_result"
    }
   ],
   "source": [
    "# 인덱스(행) 이름을 지정하여 새로 생성\n",
    "i_names = ['무궁화', '홍길동', '개나리', '진달래', '봉선화']\n",
    "df = DataFrame(grade_list, index=i_names)\n",
    "df"
   ]
  },
  {
   "cell_type": "code",
   "execution_count": 9,
   "id": "e701e051-ace6-4a77-a2e4-6b8b80ae8d64",
   "metadata": {},
   "outputs": [
    {
     "data": {
      "text/html": [
       "<div>\n",
       "<style scoped>\n",
       "    .dataframe tbody tr th:only-of-type {\n",
       "        vertical-align: middle;\n",
       "    }\n",
       "\n",
       "    .dataframe tbody tr th {\n",
       "        vertical-align: top;\n",
       "    }\n",
       "\n",
       "    .dataframe thead th {\n",
       "        text-align: right;\n",
       "    }\n",
       "</style>\n",
       "<table border=\"1\" class=\"dataframe\">\n",
       "  <thead>\n",
       "    <tr style=\"text-align: right;\">\n",
       "      <th></th>\n",
       "      <th>국어</th>\n",
       "      <th>영어</th>\n",
       "      <th>수학</th>\n",
       "      <th>과학</th>\n",
       "    </tr>\n",
       "  </thead>\n",
       "  <tbody>\n",
       "    <tr>\n",
       "      <th>무궁화</th>\n",
       "      <td>98</td>\n",
       "      <td>NaN</td>\n",
       "      <td>88.0</td>\n",
       "      <td>64.0</td>\n",
       "    </tr>\n",
       "    <tr>\n",
       "      <th>홍길동</th>\n",
       "      <td>88</td>\n",
       "      <td>90.0</td>\n",
       "      <td>62.0</td>\n",
       "      <td>72.0</td>\n",
       "    </tr>\n",
       "    <tr>\n",
       "      <th>개나리</th>\n",
       "      <td>92</td>\n",
       "      <td>70.0</td>\n",
       "      <td>NaN</td>\n",
       "      <td>NaN</td>\n",
       "    </tr>\n",
       "    <tr>\n",
       "      <th>진달래</th>\n",
       "      <td>63</td>\n",
       "      <td>60.0</td>\n",
       "      <td>31.0</td>\n",
       "      <td>70.0</td>\n",
       "    </tr>\n",
       "    <tr>\n",
       "      <th>봉선화</th>\n",
       "      <td>120</td>\n",
       "      <td>50.0</td>\n",
       "      <td>NaN</td>\n",
       "      <td>88.0</td>\n",
       "    </tr>\n",
       "  </tbody>\n",
       "</table>\n",
       "</div>"
      ],
      "text/plain": [
       "      국어    영어    수학    과학\n",
       "무궁화   98   NaN  88.0  64.0\n",
       "홍길동   88  90.0  62.0  72.0\n",
       "개나리   92  70.0   NaN   NaN\n",
       "진달래   63  60.0  31.0  70.0\n",
       "봉선화  120  50.0   NaN  88.0"
      ]
     },
     "execution_count": 9,
     "metadata": {},
     "output_type": "execute_result"
    }
   ],
   "source": [
    "#인덱스와 컬럼이름 모두 지정하기\n",
    "df = DataFrame(grade_list, index=i_names, columns=c_names)\n",
    "df"
   ]
  },
  {
   "cell_type": "code",
   "execution_count": 10,
   "id": "96e76d79-4dc1-43d8-b6b1-6cf2b71f14db",
   "metadata": {},
   "outputs": [
    {
     "data": {
      "text/plain": [
       "무궁화     98\n",
       "홍길동     88\n",
       "개나리     92\n",
       "진달래     63\n",
       "봉선화    120\n",
       "Name: 국어, dtype: int64"
      ]
     },
     "execution_count": 10,
     "metadata": {},
     "output_type": "execute_result"
    }
   ],
   "source": [
    "df['국어'] #열 단위의 데이터 접근하기"
   ]
  },
  {
   "cell_type": "code",
   "execution_count": 11,
   "id": "b162cff9-0b41-41e0-99f5-4ebfcc20291c",
   "metadata": {},
   "outputs": [
    {
     "data": {
      "text/plain": [
       "무궁화     NaN\n",
       "홍길동    90.0\n",
       "개나리    70.0\n",
       "진달래    60.0\n",
       "봉선화    50.0\n",
       "Name: 영어, dtype: float64"
      ]
     },
     "execution_count": 11,
     "metadata": {},
     "output_type": "execute_result"
    }
   ],
   "source": [
    "df['영어'] #NaN값은 실수형으로 받음"
   ]
  },
  {
   "cell_type": "code",
   "execution_count": 12,
   "id": "11e5ef6d-ab01-4894-a965-f2b1508c19a0",
   "metadata": {},
   "outputs": [
    {
     "data": {
      "text/plain": [
       "국어    98.0\n",
       "영어     NaN\n",
       "수학    88.0\n",
       "과학    64.0\n",
       "Name: 무궁화, dtype: float64"
      ]
     },
     "execution_count": 12,
     "metadata": {},
     "output_type": "execute_result"
    }
   ],
   "source": [
    "#행 단위로 접근하기\n",
    "df.loc['무궁화']"
   ]
  },
  {
   "cell_type": "code",
   "execution_count": 13,
   "id": "79551e5b-7b06-4671-984b-402299ef036b",
   "metadata": {},
   "outputs": [
    {
     "data": {
      "text/plain": [
       "국어    88.0\n",
       "영어    90.0\n",
       "수학    62.0\n",
       "과학    72.0\n",
       "Name: 홍길동, dtype: float64"
      ]
     },
     "execution_count": 13,
     "metadata": {},
     "output_type": "execute_result"
    }
   ],
   "source": [
    "df.loc['홍길동']"
   ]
  },
  {
   "cell_type": "code",
   "execution_count": 16,
   "id": "1a378716-8635-420f-bf07-852064339b0d",
   "metadata": {},
   "outputs": [
    {
     "name": "stdout",
     "output_type": "stream",
     "text": [
      "무궁화의 국어 점수 : 98\n",
      "무궁화의 국어 점수 : 98\n"
     ]
    }
   ],
   "source": [
    "#셀 단위로 접근하기\n",
    "print(\"무궁화의 국어 점수 : %d\" % df['국어']['무궁화'])    #[열][행]\n",
    "print(\"무궁화의 국어 점수 : %d\" % df.loc['무궁화','국어']) #[행,열]"
   ]
  },
  {
   "cell_type": "code",
   "execution_count": null,
   "id": "7d747068-2c6f-41de-b288-6aed8185478e",
   "metadata": {},
   "outputs": [],
   "source": [
    "\"\"\"-----------------------------------------------\n",
    "    count 각 열별로 유효한 값의 수\n",
    "    mean  평균\n",
    "    std   표준편차\n",
    "    min   최소값\n",
    "    max   최대값\n",
    "    사분위수 : 1사분위 수(하위 25%)\n",
    "              2사분위 수(중앙값 50%)\n",
    "              3사분위 수(하위 75%)   ->상위 25%     \n",
    "--------------------------------------------------\"\"\""
   ]
  },
  {
   "cell_type": "code",
   "execution_count": 17,
   "id": "da94e5ac-3ffb-4f88-a94b-5b9e44aa2cd7",
   "metadata": {},
   "outputs": [
    {
     "data": {
      "text/html": [
       "<div>\n",
       "<style scoped>\n",
       "    .dataframe tbody tr th:only-of-type {\n",
       "        vertical-align: middle;\n",
       "    }\n",
       "\n",
       "    .dataframe tbody tr th {\n",
       "        vertical-align: top;\n",
       "    }\n",
       "\n",
       "    .dataframe thead th {\n",
       "        text-align: right;\n",
       "    }\n",
       "</style>\n",
       "<table border=\"1\" class=\"dataframe\">\n",
       "  <thead>\n",
       "    <tr style=\"text-align: right;\">\n",
       "      <th></th>\n",
       "      <th>국어</th>\n",
       "      <th>영어</th>\n",
       "      <th>수학</th>\n",
       "      <th>과학</th>\n",
       "    </tr>\n",
       "  </thead>\n",
       "  <tbody>\n",
       "    <tr>\n",
       "      <th>무궁화</th>\n",
       "      <td>98</td>\n",
       "      <td>NaN</td>\n",
       "      <td>88.0</td>\n",
       "      <td>64.0</td>\n",
       "    </tr>\n",
       "    <tr>\n",
       "      <th>홍길동</th>\n",
       "      <td>88</td>\n",
       "      <td>90.0</td>\n",
       "      <td>62.0</td>\n",
       "      <td>72.0</td>\n",
       "    </tr>\n",
       "    <tr>\n",
       "      <th>개나리</th>\n",
       "      <td>92</td>\n",
       "      <td>70.0</td>\n",
       "      <td>NaN</td>\n",
       "      <td>NaN</td>\n",
       "    </tr>\n",
       "    <tr>\n",
       "      <th>진달래</th>\n",
       "      <td>63</td>\n",
       "      <td>60.0</td>\n",
       "      <td>31.0</td>\n",
       "      <td>70.0</td>\n",
       "    </tr>\n",
       "    <tr>\n",
       "      <th>봉선화</th>\n",
       "      <td>120</td>\n",
       "      <td>50.0</td>\n",
       "      <td>NaN</td>\n",
       "      <td>88.0</td>\n",
       "    </tr>\n",
       "  </tbody>\n",
       "</table>\n",
       "</div>"
      ],
      "text/plain": [
       "      국어    영어    수학    과학\n",
       "무궁화   98   NaN  88.0  64.0\n",
       "홍길동   88  90.0  62.0  72.0\n",
       "개나리   92  70.0   NaN   NaN\n",
       "진달래   63  60.0  31.0  70.0\n",
       "봉선화  120  50.0   NaN  88.0"
      ]
     },
     "execution_count": 17,
     "metadata": {},
     "output_type": "execute_result"
    }
   ],
   "source": [
    "df"
   ]
  },
  {
   "cell_type": "code",
   "execution_count": 18,
   "id": "987f85da-e5ce-47fd-8a5b-d190c2a78f59",
   "metadata": {},
   "outputs": [
    {
     "data": {
      "text/html": [
       "<div>\n",
       "<style scoped>\n",
       "    .dataframe tbody tr th:only-of-type {\n",
       "        vertical-align: middle;\n",
       "    }\n",
       "\n",
       "    .dataframe tbody tr th {\n",
       "        vertical-align: top;\n",
       "    }\n",
       "\n",
       "    .dataframe thead th {\n",
       "        text-align: right;\n",
       "    }\n",
       "</style>\n",
       "<table border=\"1\" class=\"dataframe\">\n",
       "  <thead>\n",
       "    <tr style=\"text-align: right;\">\n",
       "      <th></th>\n",
       "      <th>국어</th>\n",
       "      <th>영어</th>\n",
       "      <th>수학</th>\n",
       "      <th>과학</th>\n",
       "    </tr>\n",
       "  </thead>\n",
       "  <tbody>\n",
       "    <tr>\n",
       "      <th>count</th>\n",
       "      <td>5.000000</td>\n",
       "      <td>4.000000</td>\n",
       "      <td>3.000000</td>\n",
       "      <td>4.000000</td>\n",
       "    </tr>\n",
       "    <tr>\n",
       "      <th>mean</th>\n",
       "      <td>92.200000</td>\n",
       "      <td>67.500000</td>\n",
       "      <td>60.333333</td>\n",
       "      <td>73.500000</td>\n",
       "    </tr>\n",
       "    <tr>\n",
       "      <th>std</th>\n",
       "      <td>20.474374</td>\n",
       "      <td>17.078251</td>\n",
       "      <td>28.536526</td>\n",
       "      <td>10.246951</td>\n",
       "    </tr>\n",
       "    <tr>\n",
       "      <th>min</th>\n",
       "      <td>63.000000</td>\n",
       "      <td>50.000000</td>\n",
       "      <td>31.000000</td>\n",
       "      <td>64.000000</td>\n",
       "    </tr>\n",
       "    <tr>\n",
       "      <th>25%</th>\n",
       "      <td>88.000000</td>\n",
       "      <td>57.500000</td>\n",
       "      <td>46.500000</td>\n",
       "      <td>68.500000</td>\n",
       "    </tr>\n",
       "    <tr>\n",
       "      <th>50%</th>\n",
       "      <td>92.000000</td>\n",
       "      <td>65.000000</td>\n",
       "      <td>62.000000</td>\n",
       "      <td>71.000000</td>\n",
       "    </tr>\n",
       "    <tr>\n",
       "      <th>75%</th>\n",
       "      <td>98.000000</td>\n",
       "      <td>75.000000</td>\n",
       "      <td>75.000000</td>\n",
       "      <td>76.000000</td>\n",
       "    </tr>\n",
       "    <tr>\n",
       "      <th>max</th>\n",
       "      <td>120.000000</td>\n",
       "      <td>90.000000</td>\n",
       "      <td>88.000000</td>\n",
       "      <td>88.000000</td>\n",
       "    </tr>\n",
       "  </tbody>\n",
       "</table>\n",
       "</div>"
      ],
      "text/plain": [
       "               국어         영어         수학         과학\n",
       "count    5.000000   4.000000   3.000000   4.000000\n",
       "mean    92.200000  67.500000  60.333333  73.500000\n",
       "std     20.474374  17.078251  28.536526  10.246951\n",
       "min     63.000000  50.000000  31.000000  64.000000\n",
       "25%     88.000000  57.500000  46.500000  68.500000\n",
       "50%     92.000000  65.000000  62.000000  71.000000\n",
       "75%     98.000000  75.000000  75.000000  76.000000\n",
       "max    120.000000  90.000000  88.000000  88.000000"
      ]
     },
     "execution_count": 18,
     "metadata": {},
     "output_type": "execute_result"
    }
   ],
   "source": [
    "df.describe() # 통계 요약"
   ]
  },
  {
   "cell_type": "code",
   "execution_count": 21,
   "id": "2b69aa37-a2d0-47c3-99fa-5057dc34eac6",
   "metadata": {},
   "outputs": [
    {
     "name": "stdout",
     "output_type": "stream",
     "text": [
      "국어    5\n",
      "영어    4\n",
      "수학    3\n",
      "과학    4\n",
      "dtype: int64\n",
      "4\n",
      "50.0\n",
      "90.0\n",
      "270.0\n",
      "67.5\n",
      "17.07825127659933\n",
      "65.0\n",
      "국어    88.0\n",
      "영어    57.5\n",
      "수학    46.5\n",
      "과학    68.5\n",
      "Name: 0.25, dtype: float64\n"
     ]
    }
   ],
   "source": [
    "print(df.count())            #각 열, 혹은 특정 열에 대한 NaN를 제외한 값의 수를 반환\n",
    "print(df['영어'].count())\n",
    "print(df['영어'].min())\n",
    "print(df['영어'].max())\n",
    "print(df['영어'].sum())\n",
    "print(df['영어'].mean())     #평균\n",
    "print(df['영어'].std())      #표준편차\n",
    "print(df['영어'].median())   #중앙값\n",
    "print(df.quantile(q=0.25))   #각 열의 1사분위 수 (상위 25%위치의 값)"
   ]
  },
  {
   "cell_type": "code",
   "execution_count": 22,
   "id": "73beb58a-cf8b-4ec6-af7e-8fcc6ba1c39f",
   "metadata": {},
   "outputs": [
    {
     "data": {
      "text/html": [
       "<div>\n",
       "<style scoped>\n",
       "    .dataframe tbody tr th:only-of-type {\n",
       "        vertical-align: middle;\n",
       "    }\n",
       "\n",
       "    .dataframe tbody tr th {\n",
       "        vertical-align: top;\n",
       "    }\n",
       "\n",
       "    .dataframe thead th {\n",
       "        text-align: right;\n",
       "    }\n",
       "</style>\n",
       "<table border=\"1\" class=\"dataframe\">\n",
       "  <thead>\n",
       "    <tr style=\"text-align: right;\">\n",
       "      <th></th>\n",
       "      <th>국어</th>\n",
       "      <th>영어</th>\n",
       "      <th>수학</th>\n",
       "      <th>과학</th>\n",
       "    </tr>\n",
       "  </thead>\n",
       "  <tbody>\n",
       "    <tr>\n",
       "      <th>무궁화</th>\n",
       "      <td>98</td>\n",
       "      <td>NaN</td>\n",
       "      <td>88.0</td>\n",
       "      <td>64.0</td>\n",
       "    </tr>\n",
       "    <tr>\n",
       "      <th>홍길동</th>\n",
       "      <td>88</td>\n",
       "      <td>90.0</td>\n",
       "      <td>62.0</td>\n",
       "      <td>72.0</td>\n",
       "    </tr>\n",
       "    <tr>\n",
       "      <th>개나리</th>\n",
       "      <td>92</td>\n",
       "      <td>70.0</td>\n",
       "      <td>NaN</td>\n",
       "      <td>NaN</td>\n",
       "    </tr>\n",
       "    <tr>\n",
       "      <th>진달래</th>\n",
       "      <td>63</td>\n",
       "      <td>60.0</td>\n",
       "      <td>31.0</td>\n",
       "      <td>70.0</td>\n",
       "    </tr>\n",
       "    <tr>\n",
       "      <th>봉선화</th>\n",
       "      <td>120</td>\n",
       "      <td>50.0</td>\n",
       "      <td>NaN</td>\n",
       "      <td>88.0</td>\n",
       "    </tr>\n",
       "  </tbody>\n",
       "</table>\n",
       "</div>"
      ],
      "text/plain": [
       "      국어    영어    수학    과학\n",
       "무궁화   98   NaN  88.0  64.0\n",
       "홍길동   88  90.0  62.0  72.0\n",
       "개나리   92  70.0   NaN   NaN\n",
       "진달래   63  60.0  31.0  70.0\n",
       "봉선화  120  50.0   NaN  88.0"
      ]
     },
     "execution_count": 22,
     "metadata": {},
     "output_type": "execute_result"
    }
   ],
   "source": [
    "df"
   ]
  },
  {
   "cell_type": "code",
   "execution_count": null,
   "id": "56896379-cd57-4bff-ae34-47e2354422ed",
   "metadata": {},
   "outputs": [],
   "source": [
    "# 데이터 전처리 Data Preprocessing\n",
    "# ->분석에 적합하게 데이터를 가공하는 작업"
   ]
  },
  {
   "cell_type": "code",
   "execution_count": 23,
   "id": "7e0cf5af-6246-4709-a8cd-5cb8bfad9ef4",
   "metadata": {},
   "outputs": [
    {
     "data": {
      "text/html": [
       "<div>\n",
       "<style scoped>\n",
       "    .dataframe tbody tr th:only-of-type {\n",
       "        vertical-align: middle;\n",
       "    }\n",
       "\n",
       "    .dataframe tbody tr th {\n",
       "        vertical-align: top;\n",
       "    }\n",
       "\n",
       "    .dataframe thead th {\n",
       "        text-align: right;\n",
       "    }\n",
       "</style>\n",
       "<table border=\"1\" class=\"dataframe\">\n",
       "  <thead>\n",
       "    <tr style=\"text-align: right;\">\n",
       "      <th></th>\n",
       "      <th>국어</th>\n",
       "      <th>영어</th>\n",
       "      <th>수학</th>\n",
       "      <th>과학</th>\n",
       "      <th>평균</th>\n",
       "    </tr>\n",
       "  </thead>\n",
       "  <tbody>\n",
       "    <tr>\n",
       "      <th>무궁화</th>\n",
       "      <td>98</td>\n",
       "      <td>NaN</td>\n",
       "      <td>88.0</td>\n",
       "      <td>64.0</td>\n",
       "      <td>83.333333</td>\n",
       "    </tr>\n",
       "    <tr>\n",
       "      <th>홍길동</th>\n",
       "      <td>88</td>\n",
       "      <td>90.0</td>\n",
       "      <td>62.0</td>\n",
       "      <td>72.0</td>\n",
       "      <td>78.000000</td>\n",
       "    </tr>\n",
       "    <tr>\n",
       "      <th>개나리</th>\n",
       "      <td>92</td>\n",
       "      <td>70.0</td>\n",
       "      <td>NaN</td>\n",
       "      <td>NaN</td>\n",
       "      <td>81.000000</td>\n",
       "    </tr>\n",
       "    <tr>\n",
       "      <th>진달래</th>\n",
       "      <td>63</td>\n",
       "      <td>60.0</td>\n",
       "      <td>31.0</td>\n",
       "      <td>70.0</td>\n",
       "      <td>56.000000</td>\n",
       "    </tr>\n",
       "    <tr>\n",
       "      <th>봉선화</th>\n",
       "      <td>120</td>\n",
       "      <td>50.0</td>\n",
       "      <td>NaN</td>\n",
       "      <td>88.0</td>\n",
       "      <td>86.000000</td>\n",
       "    </tr>\n",
       "  </tbody>\n",
       "</table>\n",
       "</div>"
      ],
      "text/plain": [
       "      국어    영어    수학    과학         평균\n",
       "무궁화   98   NaN  88.0  64.0  83.333333\n",
       "홍길동   88  90.0  62.0  72.0  78.000000\n",
       "개나리   92  70.0   NaN   NaN  81.000000\n",
       "진달래   63  60.0  31.0  70.0  56.000000\n",
       "봉선화  120  50.0   NaN  88.0  86.000000"
      ]
     },
     "execution_count": 23,
     "metadata": {},
     "output_type": "execute_result"
    }
   ],
   "source": [
    "# 'axis=1' 을 설정하면 각각의 행에 대해 계산함\n",
    "# NaN은 대상에서 제외\n",
    "df['평균'] = df.mean(axis=1)\n",
    "df"
   ]
  },
  {
   "cell_type": "code",
   "execution_count": 26,
   "id": "a18b256d-3fcc-4152-985f-0d54b6ef1e27",
   "metadata": {},
   "outputs": [
    {
     "data": {
      "text/html": [
       "<div>\n",
       "<style scoped>\n",
       "    .dataframe tbody tr th:only-of-type {\n",
       "        vertical-align: middle;\n",
       "    }\n",
       "\n",
       "    .dataframe tbody tr th {\n",
       "        vertical-align: top;\n",
       "    }\n",
       "\n",
       "    .dataframe thead th {\n",
       "        text-align: right;\n",
       "    }\n",
       "</style>\n",
       "<table border=\"1\" class=\"dataframe\">\n",
       "  <thead>\n",
       "    <tr style=\"text-align: right;\">\n",
       "      <th></th>\n",
       "      <th>국어</th>\n",
       "      <th>영어</th>\n",
       "      <th>수학</th>\n",
       "      <th>과학</th>\n",
       "      <th>평균</th>\n",
       "      <th>결과</th>\n",
       "    </tr>\n",
       "  </thead>\n",
       "  <tbody>\n",
       "    <tr>\n",
       "      <th>무궁화</th>\n",
       "      <td>98</td>\n",
       "      <td>NaN</td>\n",
       "      <td>88.0</td>\n",
       "      <td>64.0</td>\n",
       "      <td>83.333333</td>\n",
       "      <td>합격</td>\n",
       "    </tr>\n",
       "    <tr>\n",
       "      <th>홍길동</th>\n",
       "      <td>88</td>\n",
       "      <td>90.0</td>\n",
       "      <td>62.0</td>\n",
       "      <td>72.0</td>\n",
       "      <td>78.000000</td>\n",
       "      <td>합격</td>\n",
       "    </tr>\n",
       "    <tr>\n",
       "      <th>개나리</th>\n",
       "      <td>92</td>\n",
       "      <td>70.0</td>\n",
       "      <td>NaN</td>\n",
       "      <td>NaN</td>\n",
       "      <td>81.000000</td>\n",
       "      <td>합격</td>\n",
       "    </tr>\n",
       "    <tr>\n",
       "      <th>진달래</th>\n",
       "      <td>63</td>\n",
       "      <td>60.0</td>\n",
       "      <td>31.0</td>\n",
       "      <td>70.0</td>\n",
       "      <td>56.000000</td>\n",
       "      <td>불합격</td>\n",
       "    </tr>\n",
       "    <tr>\n",
       "      <th>봉선화</th>\n",
       "      <td>120</td>\n",
       "      <td>50.0</td>\n",
       "      <td>NaN</td>\n",
       "      <td>88.0</td>\n",
       "      <td>86.000000</td>\n",
       "      <td>합격</td>\n",
       "    </tr>\n",
       "  </tbody>\n",
       "</table>\n",
       "</div>"
      ],
      "text/plain": [
       "      국어    영어    수학    과학         평균   결과\n",
       "무궁화   98   NaN  88.0  64.0  83.333333   합격\n",
       "홍길동   88  90.0  62.0  72.0  78.000000   합격\n",
       "개나리   92  70.0   NaN   NaN  81.000000   합격\n",
       "진달래   63  60.0  31.0  70.0  56.000000  불합격\n",
       "봉선화  120  50.0   NaN  88.0  86.000000   합격"
      ]
     },
     "execution_count": 26,
     "metadata": {},
     "output_type": "execute_result"
    }
   ],
   "source": [
    "import numpy as np\n",
    "# [결과] -> 평균칼럼의 점수가 70점이상이면 합격, 불합격\n",
    "df['결과'] = np.where(df['평균']>=70, '합격', '불합격')\n",
    "df"
   ]
  },
  {
   "cell_type": "code",
   "execution_count": 27,
   "id": "c6a45543-7d5d-4380-9ade-b7dc2c5cf288",
   "metadata": {},
   "outputs": [
    {
     "data": {
      "text/html": [
       "<div>\n",
       "<style scoped>\n",
       "    .dataframe tbody tr th:only-of-type {\n",
       "        vertical-align: middle;\n",
       "    }\n",
       "\n",
       "    .dataframe tbody tr th {\n",
       "        vertical-align: top;\n",
       "    }\n",
       "\n",
       "    .dataframe thead th {\n",
       "        text-align: right;\n",
       "    }\n",
       "</style>\n",
       "<table border=\"1\" class=\"dataframe\">\n",
       "  <thead>\n",
       "    <tr style=\"text-align: right;\">\n",
       "      <th></th>\n",
       "      <th>국어</th>\n",
       "      <th>영어</th>\n",
       "      <th>수학</th>\n",
       "      <th>과학</th>\n",
       "      <th>평균</th>\n",
       "      <th>결과</th>\n",
       "      <th>학점</th>\n",
       "    </tr>\n",
       "  </thead>\n",
       "  <tbody>\n",
       "    <tr>\n",
       "      <th>무궁화</th>\n",
       "      <td>98</td>\n",
       "      <td>NaN</td>\n",
       "      <td>88.0</td>\n",
       "      <td>64.0</td>\n",
       "      <td>83.333333</td>\n",
       "      <td>합격</td>\n",
       "      <td>B</td>\n",
       "    </tr>\n",
       "    <tr>\n",
       "      <th>홍길동</th>\n",
       "      <td>88</td>\n",
       "      <td>90.0</td>\n",
       "      <td>62.0</td>\n",
       "      <td>72.0</td>\n",
       "      <td>78.000000</td>\n",
       "      <td>합격</td>\n",
       "      <td>C</td>\n",
       "    </tr>\n",
       "    <tr>\n",
       "      <th>개나리</th>\n",
       "      <td>92</td>\n",
       "      <td>70.0</td>\n",
       "      <td>NaN</td>\n",
       "      <td>NaN</td>\n",
       "      <td>81.000000</td>\n",
       "      <td>합격</td>\n",
       "      <td>B</td>\n",
       "    </tr>\n",
       "    <tr>\n",
       "      <th>진달래</th>\n",
       "      <td>63</td>\n",
       "      <td>60.0</td>\n",
       "      <td>31.0</td>\n",
       "      <td>70.0</td>\n",
       "      <td>56.000000</td>\n",
       "      <td>불합격</td>\n",
       "      <td>D</td>\n",
       "    </tr>\n",
       "    <tr>\n",
       "      <th>봉선화</th>\n",
       "      <td>120</td>\n",
       "      <td>50.0</td>\n",
       "      <td>NaN</td>\n",
       "      <td>88.0</td>\n",
       "      <td>86.000000</td>\n",
       "      <td>합격</td>\n",
       "      <td>B</td>\n",
       "    </tr>\n",
       "  </tbody>\n",
       "</table>\n",
       "</div>"
      ],
      "text/plain": [
       "      국어    영어    수학    과학         평균   결과 학점\n",
       "무궁화   98   NaN  88.0  64.0  83.333333   합격  B\n",
       "홍길동   88  90.0  62.0  72.0  78.000000   합격  C\n",
       "개나리   92  70.0   NaN   NaN  81.000000   합격  B\n",
       "진달래   63  60.0  31.0  70.0  56.000000  불합격  D\n",
       "봉선화  120  50.0   NaN  88.0  86.000000   합격  B"
      ]
     },
     "execution_count": 27,
     "metadata": {},
     "output_type": "execute_result"
    }
   ],
   "source": [
    "#[학점] -> 평균 점수에 따라 A, B, C, d\n",
    "conditions = [(df['평균']>=90), (df['평균']>=80), (df['평균']>=70),(df['평균']<70)]\n",
    "grade = ['A', 'B', 'C', 'D']\n",
    "df['학점'] = np.select(conditions, grade, default='F')\n",
    "df"
   ]
  },
  {
   "cell_type": "code",
   "execution_count": 28,
   "id": "3e3f6b3e-7513-4679-a6c6-d969edeafa38",
   "metadata": {},
   "outputs": [],
   "source": [
    "# 상자그림 (boxplot)\n",
    "from matplotlib import pyplot\n",
    "\n",
    "pyplot.rcParams[\"font.family\"] = 'gulim'\n",
    "pyplot.rcParams[\"font.size\"]   = 12\n",
    "pyplot.rcParams[\"figure.figsize\"] = (6, 4)"
   ]
  },
  {
   "cell_type": "code",
   "execution_count": 31,
   "id": "ba4f084b-b33b-4d50-86ea-f84e2fb9be34",
   "metadata": {},
   "outputs": [
    {
     "data": {
      "image/png": "[encoded data removed]",
      "text/plain": [
       "<Figure size 600x400 with 1 Axes>"
      ]
     },
     "metadata": {},
     "output_type": "display_data"
    }
   ],
   "source": [
    "pyplot.figure()\n",
    "pyplot.grid()\n",
    "df.boxplot('국어')\n",
    "pyplot.title(\"2025년 국어점수 분포도\")\n",
    "pyplot.ylabel(\"국어점수\")\n",
    "pyplot.show()\n",
    "pyplot.close()"
   ]
  },
  {
   "cell_type": "code",
   "execution_count": null,
   "id": "9f07cc0a-13f5-4ae9-80cb-ccd4d58f38d1",
   "metadata": {},
   "outputs": [],
   "source": [
    "# 데이터 정제\n",
    "# -> 결측치 (Missing value) : 누락된 값, 비어 있는 값\n",
    "# -> 이상치 (Outlier)       : 정상 범주에서 크게 벗어난 값"
   ]
  },
  {
   "cell_type": "code",
   "execution_count": 32,
   "id": "85e3321e-cc93-404e-9724-3f86bf03ddc3",
   "metadata": {},
   "outputs": [],
   "source": [
    "from sample2  import grade_dic    #sample2.py"
   ]
  },
  {
   "cell_type": "code",
   "execution_count": 33,
   "id": "90e842ff-f6d7-48f8-9382-2ac056533f72",
   "metadata": {},
   "outputs": [
    {
     "data": {
      "text/html": [
       "<div>\n",
       "<style scoped>\n",
       "    .dataframe tbody tr th:only-of-type {\n",
       "        vertical-align: middle;\n",
       "    }\n",
       "\n",
       "    .dataframe tbody tr th {\n",
       "        vertical-align: top;\n",
       "    }\n",
       "\n",
       "    .dataframe thead th {\n",
       "        text-align: right;\n",
       "    }\n",
       "</style>\n",
       "<table border=\"1\" class=\"dataframe\">\n",
       "  <thead>\n",
       "    <tr style=\"text-align: right;\">\n",
       "      <th></th>\n",
       "      <th>국어</th>\n",
       "      <th>영어</th>\n",
       "      <th>수학</th>\n",
       "      <th>과학</th>\n",
       "    </tr>\n",
       "  </thead>\n",
       "  <tbody>\n",
       "    <tr>\n",
       "      <th>무궁화</th>\n",
       "      <td>98</td>\n",
       "      <td>NaN</td>\n",
       "      <td>88.0</td>\n",
       "      <td>64.0</td>\n",
       "    </tr>\n",
       "    <tr>\n",
       "      <th>홍길동</th>\n",
       "      <td>88</td>\n",
       "      <td>90.0</td>\n",
       "      <td>62.0</td>\n",
       "      <td>72.0</td>\n",
       "    </tr>\n",
       "    <tr>\n",
       "      <th>개나리</th>\n",
       "      <td>92</td>\n",
       "      <td>70.0</td>\n",
       "      <td>NaN</td>\n",
       "      <td>NaN</td>\n",
       "    </tr>\n",
       "    <tr>\n",
       "      <th>진달래</th>\n",
       "      <td>63</td>\n",
       "      <td>60.0</td>\n",
       "      <td>31.0</td>\n",
       "      <td>70.0</td>\n",
       "    </tr>\n",
       "    <tr>\n",
       "      <th>봉선화</th>\n",
       "      <td>120</td>\n",
       "      <td>50.0</td>\n",
       "      <td>NaN</td>\n",
       "      <td>88.0</td>\n",
       "    </tr>\n",
       "  </tbody>\n",
       "</table>\n",
       "</div>"
      ],
      "text/plain": [
       "      국어    영어    수학    과학\n",
       "무궁화   98   NaN  88.0  64.0\n",
       "홍길동   88  90.0  62.0  72.0\n",
       "개나리   92  70.0   NaN   NaN\n",
       "진달래   63  60.0  31.0  70.0\n",
       "봉선화  120  50.0   NaN  88.0"
      ]
     },
     "execution_count": 33,
     "metadata": {},
     "output_type": "execute_result"
    }
   ],
   "source": [
    "# 데이터 구성하기\n",
    "df = DataFrame(grade_dic, index=['무궁화', '홍길동', '개나리', '진달래', '봉선화'])\n",
    "df"
   ]
  },
  {
   "cell_type": "code",
   "execution_count": 34,
   "id": "adecaf17-bbb2-4dc7-9de0-0e0e60a00b0f",
   "metadata": {},
   "outputs": [
    {
     "data": {
      "text/html": [
       "<div>\n",
       "<style scoped>\n",
       "    .dataframe tbody tr th:only-of-type {\n",
       "        vertical-align: middle;\n",
       "    }\n",
       "\n",
       "    .dataframe tbody tr th {\n",
       "        vertical-align: top;\n",
       "    }\n",
       "\n",
       "    .dataframe thead th {\n",
       "        text-align: right;\n",
       "    }\n",
       "</style>\n",
       "<table border=\"1\" class=\"dataframe\">\n",
       "  <thead>\n",
       "    <tr style=\"text-align: right;\">\n",
       "      <th></th>\n",
       "      <th>국어</th>\n",
       "      <th>영어</th>\n",
       "      <th>수학</th>\n",
       "      <th>과학</th>\n",
       "    </tr>\n",
       "  </thead>\n",
       "  <tbody>\n",
       "    <tr>\n",
       "      <th>무궁화</th>\n",
       "      <td>False</td>\n",
       "      <td>True</td>\n",
       "      <td>False</td>\n",
       "      <td>False</td>\n",
       "    </tr>\n",
       "    <tr>\n",
       "      <th>홍길동</th>\n",
       "      <td>False</td>\n",
       "      <td>False</td>\n",
       "      <td>False</td>\n",
       "      <td>False</td>\n",
       "    </tr>\n",
       "    <tr>\n",
       "      <th>개나리</th>\n",
       "      <td>False</td>\n",
       "      <td>False</td>\n",
       "      <td>True</td>\n",
       "      <td>True</td>\n",
       "    </tr>\n",
       "    <tr>\n",
       "      <th>진달래</th>\n",
       "      <td>False</td>\n",
       "      <td>False</td>\n",
       "      <td>False</td>\n",
       "      <td>False</td>\n",
       "    </tr>\n",
       "    <tr>\n",
       "      <th>봉선화</th>\n",
       "      <td>False</td>\n",
       "      <td>False</td>\n",
       "      <td>True</td>\n",
       "      <td>False</td>\n",
       "    </tr>\n",
       "  </tbody>\n",
       "</table>\n",
       "</div>"
      ],
      "text/plain": [
       "        국어     영어     수학     과학\n",
       "무궁화  False   True  False  False\n",
       "홍길동  False  False  False  False\n",
       "개나리  False  False   True   True\n",
       "진달래  False  False  False  False\n",
       "봉선화  False  False   True  False"
      ]
     },
     "execution_count": 34,
     "metadata": {},
     "output_type": "execute_result"
    }
   ],
   "source": [
    "# 결측지 여부 확인\n",
    "# -> isnull(), isna() 함수\n",
    "empty = df.isna() # null값이면 True반환\n",
    "empty"
   ]
  },
  {
   "cell_type": "code",
   "execution_count": 35,
   "id": "372a79c1-4e12-40fa-891b-0562559db467",
   "metadata": {},
   "outputs": [
    {
     "data": {
      "text/html": [
       "<div>\n",
       "<style scoped>\n",
       "    .dataframe tbody tr th:only-of-type {\n",
       "        vertical-align: middle;\n",
       "    }\n",
       "\n",
       "    .dataframe tbody tr th {\n",
       "        vertical-align: top;\n",
       "    }\n",
       "\n",
       "    .dataframe thead th {\n",
       "        text-align: right;\n",
       "    }\n",
       "</style>\n",
       "<table border=\"1\" class=\"dataframe\">\n",
       "  <thead>\n",
       "    <tr style=\"text-align: right;\">\n",
       "      <th></th>\n",
       "      <th>국어</th>\n",
       "      <th>영어</th>\n",
       "      <th>수학</th>\n",
       "      <th>과학</th>\n",
       "    </tr>\n",
       "  </thead>\n",
       "  <tbody>\n",
       "    <tr>\n",
       "      <th>무궁화</th>\n",
       "      <td>False</td>\n",
       "      <td>True</td>\n",
       "      <td>False</td>\n",
       "      <td>False</td>\n",
       "    </tr>\n",
       "    <tr>\n",
       "      <th>홍길동</th>\n",
       "      <td>False</td>\n",
       "      <td>False</td>\n",
       "      <td>False</td>\n",
       "      <td>False</td>\n",
       "    </tr>\n",
       "    <tr>\n",
       "      <th>개나리</th>\n",
       "      <td>False</td>\n",
       "      <td>False</td>\n",
       "      <td>True</td>\n",
       "      <td>True</td>\n",
       "    </tr>\n",
       "    <tr>\n",
       "      <th>진달래</th>\n",
       "      <td>False</td>\n",
       "      <td>False</td>\n",
       "      <td>False</td>\n",
       "      <td>False</td>\n",
       "    </tr>\n",
       "    <tr>\n",
       "      <th>봉선화</th>\n",
       "      <td>False</td>\n",
       "      <td>False</td>\n",
       "      <td>True</td>\n",
       "      <td>False</td>\n",
       "    </tr>\n",
       "  </tbody>\n",
       "</table>\n",
       "</div>"
      ],
      "text/plain": [
       "        국어     영어     수학     과학\n",
       "무궁화  False   True  False  False\n",
       "홍길동  False  False  False  False\n",
       "개나리  False  False   True   True\n",
       "진달래  False  False  False  False\n",
       "봉선화  False  False   True  False"
      ]
     },
     "execution_count": 35,
     "metadata": {},
     "output_type": "execute_result"
    }
   ],
   "source": [
    "empty = df.isnull() # null값이면 True반환\n",
    "empty"
   ]
  },
  {
   "cell_type": "code",
   "execution_count": 36,
   "id": "8d930c5e-3540-4dc8-89af-cd0ab3856d9c",
   "metadata": {},
   "outputs": [
    {
     "data": {
      "text/html": [
       "<div>\n",
       "<style scoped>\n",
       "    .dataframe tbody tr th:only-of-type {\n",
       "        vertical-align: middle;\n",
       "    }\n",
       "\n",
       "    .dataframe tbody tr th {\n",
       "        vertical-align: top;\n",
       "    }\n",
       "\n",
       "    .dataframe thead th {\n",
       "        text-align: right;\n",
       "    }\n",
       "</style>\n",
       "<table border=\"1\" class=\"dataframe\">\n",
       "  <thead>\n",
       "    <tr style=\"text-align: right;\">\n",
       "      <th></th>\n",
       "      <th>국어</th>\n",
       "      <th>영어</th>\n",
       "      <th>수학</th>\n",
       "      <th>과학</th>\n",
       "    </tr>\n",
       "  </thead>\n",
       "  <tbody>\n",
       "    <tr>\n",
       "      <th>봉선화</th>\n",
       "      <td>120</td>\n",
       "      <td>50.0</td>\n",
       "      <td>NaN</td>\n",
       "      <td>88.0</td>\n",
       "    </tr>\n",
       "  </tbody>\n",
       "</table>\n",
       "</div>"
      ],
      "text/plain": [
       "      국어    영어  수학    과학\n",
       "봉선화  120  50.0 NaN  88.0"
      ]
     },
     "execution_count": 36,
     "metadata": {},
     "output_type": "execute_result"
    }
   ],
   "source": [
    "# 국어점수에 대한 이상치 필터링\n",
    "r = df.query('국어>100')  #봉선화\t120\t50.0\tNaN\t88.0\n",
    "r"
   ]
  },
  {
   "cell_type": "code",
   "execution_count": 37,
   "id": "b4662720-3627-46a6-a7b2-baeb9893248d",
   "metadata": {},
   "outputs": [
    {
     "data": {
      "text/plain": [
       "['봉선화']"
      ]
     },
     "execution_count": 37,
     "metadata": {},
     "output_type": "execute_result"
    }
   ],
   "source": [
    "# 국어점수(120) 이상치가 있는 인덱스값 얻어오기\n",
    "r_index = list(r.index) \n",
    "r_index  #['봉선화']"
   ]
  },
  {
   "cell_type": "code",
   "execution_count": 38,
   "id": "19ba417c-1bd6-4315-a4a6-f1e99669e134",
   "metadata": {},
   "outputs": [
    {
     "data": {
      "text/html": [
       "<div>\n",
       "<style scoped>\n",
       "    .dataframe tbody tr th:only-of-type {\n",
       "        vertical-align: middle;\n",
       "    }\n",
       "\n",
       "    .dataframe tbody tr th {\n",
       "        vertical-align: top;\n",
       "    }\n",
       "\n",
       "    .dataframe thead th {\n",
       "        text-align: right;\n",
       "    }\n",
       "</style>\n",
       "<table border=\"1\" class=\"dataframe\">\n",
       "  <thead>\n",
       "    <tr style=\"text-align: right;\">\n",
       "      <th></th>\n",
       "      <th>국어</th>\n",
       "      <th>영어</th>\n",
       "      <th>수학</th>\n",
       "      <th>과학</th>\n",
       "    </tr>\n",
       "  </thead>\n",
       "  <tbody>\n",
       "    <tr>\n",
       "      <th>무궁화</th>\n",
       "      <td>98.0</td>\n",
       "      <td>NaN</td>\n",
       "      <td>88.0</td>\n",
       "      <td>64.0</td>\n",
       "    </tr>\n",
       "    <tr>\n",
       "      <th>홍길동</th>\n",
       "      <td>88.0</td>\n",
       "      <td>90.0</td>\n",
       "      <td>62.0</td>\n",
       "      <td>72.0</td>\n",
       "    </tr>\n",
       "    <tr>\n",
       "      <th>개나리</th>\n",
       "      <td>92.0</td>\n",
       "      <td>70.0</td>\n",
       "      <td>NaN</td>\n",
       "      <td>NaN</td>\n",
       "    </tr>\n",
       "    <tr>\n",
       "      <th>진달래</th>\n",
       "      <td>63.0</td>\n",
       "      <td>60.0</td>\n",
       "      <td>31.0</td>\n",
       "      <td>70.0</td>\n",
       "    </tr>\n",
       "    <tr>\n",
       "      <th>봉선화</th>\n",
       "      <td>NaN</td>\n",
       "      <td>50.0</td>\n",
       "      <td>NaN</td>\n",
       "      <td>88.0</td>\n",
       "    </tr>\n",
       "  </tbody>\n",
       "</table>\n",
       "</div>"
      ],
      "text/plain": [
       "       국어    영어    수학    과학\n",
       "무궁화  98.0   NaN  88.0  64.0\n",
       "홍길동  88.0  90.0  62.0  72.0\n",
       "개나리  92.0  70.0   NaN   NaN\n",
       "진달래  63.0  60.0  31.0  70.0\n",
       "봉선화   NaN  50.0   NaN  88.0"
      ]
     },
     "execution_count": 38,
     "metadata": {},
     "output_type": "execute_result"
    }
   ],
   "source": [
    "# 이상치를 갖는 인덱스에 대한 국어 점수를 결측치로 변경\n",
    "for i in r_index:\n",
    "    df.loc[i, '국어'] = np.nan\n",
    "\n",
    "df"
   ]
  },
  {
   "cell_type": "code",
   "execution_count": null,
   "id": "e263fc62-8e94-4541-b645-e450a611d06a",
   "metadata": {},
   "outputs": [],
   "source": []
  }
 ],
 "metadata": {
  "kernelspec": {
   "display_name": "Python 3 (ipykernel)",
   "language": "python",
   "name": "python3"
  },
  "language_info": {
   "codemirror_mode": {
    "name": "ipython",
    "version": 3
   },
   "file_extension": ".py",
   "mimetype": "text/x-python",
   "name": "python",
   "nbconvert_exporter": "python",
   "pygments_lexer": "ipython3",
   "version": "3.13.7"
  }
 },
 "nbformat": 4,
 "nbformat_minor": 5
}
