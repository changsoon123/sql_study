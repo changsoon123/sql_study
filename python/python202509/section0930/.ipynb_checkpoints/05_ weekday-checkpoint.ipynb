{
 "cells": [
  {
   "cell_type": "code",
   "execution_count": 3,
   "id": "140484da-e577-4be8-aec0-7243186ea5de",
   "metadata": {},
   "outputs": [
    {
     "name": "stdout",
     "output_type": "stream",
     "text": [
      "2025\n",
      "9\n",
      "30\n"
     ]
    }
   ],
   "source": [
    "# 요일 구하기\n",
    "\n",
    "cYear = 2025\n",
    "cMonth = 9\n",
    "cDate = 30\n",
    "\n",
    "print(cYear)\n",
    "print(cMonth)\n",
    "print(cDate)"
   ]
  },
  {
   "cell_type": "code",
   "execution_count": null,
   "id": "2d8bf23a-5a9a-48f4-b891-7816975ec004",
   "metadata": {},
   "outputs": [],
   "source": []
  }
 ],
 "metadata": {
  "kernelspec": {
   "display_name": "Python 3 (ipykernel)",
   "language": "python",
   "name": "python3"
  },
  "language_info": {
   "codemirror_mode": {
    "name": "ipython",
    "version": 3
   },
   "file_extension": ".py",
   "mimetype": "text/x-python",
   "name": "python",
   "nbconvert_exporter": "python",
   "pygments_lexer": "ipython3",
   "version": "3.13.7"
  }
 },
 "nbformat": 4,
 "nbformat_minor": 5
}
