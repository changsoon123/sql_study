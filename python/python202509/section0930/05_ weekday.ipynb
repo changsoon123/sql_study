{
 "cells": [
  {
   "cell_type": "code",
   "execution_count": 12,
   "id": "140484da-e577-4be8-aec0-7243186ea5de",
   "metadata": {},
   "outputs": [
    {
     "name": "stdout",
     "output_type": "stream",
     "text": [
      "739251\n"
     ]
    }
   ],
   "source": [
    "# 요일 구하기\n",
    "\"\"\"\n",
    "    서기 1년 1월 1일 ~ 2025년 9월 30일 까지의 총일수:\n",
    "\n",
    "    1) 단계 : 서기 1년 ~ 서기 2024------------------\n",
    "    평년 += 365\n",
    "    윤년 += 366\n",
    "\n",
    "    2) 단계: 1월 ~ 8월\n",
    "    31일 : 1 3 5 7 8 10 12\n",
    "    30일 : 4 6 9 11\n",
    "    29일 : 2 -> 윤년\n",
    "    28일 : 2 -> 평년\n",
    "\n",
    "\"\"\"\n",
    "cYear = 2025\n",
    "cMonth = 9\n",
    "cDate = 30\n",
    "\n",
    "hap = 0 # 총날수\n",
    "nomal = 365\n",
    "plus = 366\n",
    "for i in range(1,cYear):\n",
    "    if i % 4 == 0 and i % 100 != 0 or i % 400 ==0 :\n",
    "        hap += plus \n",
    "    else:\n",
    "        hap += nomal\n",
    "\n",
    "print(hap)"
   ]
  },
  {
   "cell_type": "code",
   "execution_count": 13,
   "id": "2d8bf23a-5a9a-48f4-b891-7816975ec004",
   "metadata": {},
   "outputs": [
    {
     "name": "stdout",
     "output_type": "stream",
     "text": [
      "739524\n"
     ]
    }
   ],
   "source": [
    "\n",
    "dal = [0,31,28,31,30,31,30,31,31,30,31,30,31]\n",
    "if cYear % 4 == 0 and cYear % 100 != 0 or cYear % 400 ==0 :\n",
    "    dal [2] = 29\n",
    "\n",
    "for i in range(1,cMonth):\n",
    "    hap += dal[i]\n",
    "\n",
    "\n",
    "hap += cDate\n",
    "\n",
    "print(hap)\n",
    "\n"
   ]
  },
  {
   "cell_type": "code",
   "execution_count": 14,
   "id": "d727934a",
   "metadata": {},
   "outputs": [
    {
     "name": "stdout",
     "output_type": "stream",
     "text": [
      "화요일\n"
     ]
    }
   ],
   "source": [
    "if hap%7 == 0:\n",
    "    print(\"일요일\")\n",
    "elif hap%7 == 1:\n",
    "    print(\"월요일\")\n",
    "elif hap%7 == 2:\n",
    "    print(\"화요일\")\n",
    "elif hap%7 == 3:\n",
    "    print(\"수요일\")\n",
    "elif hap%7 == 4:\n",
    "    print(\"목요일\")\n",
    "elif hap%7 == 5:\n",
    "    print(\"금요일\")\n",
    "elif hap%7 == 6:\n",
    "    print(\"토요일\")"
   ]
  },
  {
   "cell_type": "code",
   "execution_count": null,
   "id": "74fcddf2",
   "metadata": {},
   "outputs": [],
   "source": []
  },
  {
   "cell_type": "code",
   "execution_count": null,
   "id": "f2649162",
   "metadata": {},
   "outputs": [],
   "source": []
  },
  {
   "cell_type": "code",
   "execution_count": null,
   "id": "b165bc75",
   "metadata": {},
   "outputs": [],
   "source": []
  },
  {
   "cell_type": "code",
   "execution_count": null,
   "id": "d212686f",
   "metadata": {},
   "outputs": [],
   "source": []
  }
 ],
 "metadata": {
  "kernelspec": {
   "display_name": "Python 3",
   "language": "python",
   "name": "python3"
  },
  "language_info": {
   "codemirror_mode": {
    "name": "ipython",
    "version": 3
   },
   "file_extension": ".py",
   "mimetype": "text/x-python",
   "name": "python",
   "nbconvert_exporter": "python",
   "pygments_lexer": "ipython3",
   "version": "3.13.7"
  }
 },
 "nbformat": 4,
 "nbformat_minor": 5
}
